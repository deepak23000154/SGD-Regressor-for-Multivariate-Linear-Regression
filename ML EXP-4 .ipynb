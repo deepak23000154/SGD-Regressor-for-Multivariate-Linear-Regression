{
 "cells": [
  {
   "cell_type": "code",
   "execution_count": 21,
   "id": "54cf2fa8",
   "metadata": {},
   "outputs": [
    {
     "name": "stdout",
     "output_type": "stream",
     "text": [
      "Name: DEEPAK R\n",
      "Reg No:212223040031\n"
     ]
    }
   ],
   "source": [
    "print(\"Name: DEEPAK R\")\n",
    "print(\"Reg No:212223040031\")\n"
   ]
  },
  {
   "cell_type": "code",
   "execution_count": null,
   "id": "9a2408fb",
   "metadata": {},
   "outputs": [],
   "source": [
    "import numpy as np\n",
    "import pandas as pd\n",
    "from sklearn.datasets import fetch_california_housing\n",
    "from sklearn.linear_model import SGDRegressor\n",
    "from sklearn.multioutput import MultiOutputRegressor\n",
    "from sklearn.model_selection import train_test_split\n",
    "from sklearn.metrics import mean_squared_error\n",
    "from sklearn.preprocessing import StandardScaler\n"
   ]
  },
  {
   "cell_type": "code",
   "execution_count": 15,
   "id": "f558a6da",
   "metadata": {},
   "outputs": [
    {
     "name": "stdout",
     "output_type": "stream",
     "text": [
      "   MedInc  HouseAge  AveRooms  AveBedrms  Population  AveOccup  Latitude  \\\n",
      "0  8.3252      41.0  6.984127   1.023810       322.0  2.555556     37.88   \n",
      "1  8.3014      21.0  6.238137   0.971880      2401.0  2.109842     37.86   \n",
      "2  7.2574      52.0  8.288136   1.073446       496.0  2.802260     37.85   \n",
      "3  5.6431      52.0  5.817352   1.073059       558.0  2.547945     37.85   \n",
      "4  3.8462      52.0  6.281853   1.081081       565.0  2.181467     37.85   \n",
      "\n",
      "   Longitude  HousingPrice  \n",
      "0    -122.23         4.526  \n",
      "1    -122.22         3.585  \n",
      "2    -122.24         3.521  \n",
      "3    -122.25         3.413  \n",
      "4    -122.25         3.422  \n"
     ]
    }
   ],
   "source": [
    "dataset=fetch_california_housing()\n",
    "df=pd.DataFrame(dataset.data,columns=dataset.feature_names)\n",
    "df['HousingPrice']=dataset.target\n",
    "print(df.head())\n",
    "\n",
    "\n",
    "\n"
   ]
  },
  {
   "cell_type": "code",
   "execution_count": 16,
   "id": "d9abb3d9",
   "metadata": {},
   "outputs": [],
   "source": [
    "X=df.drop(columns=['AveOccup','HousingPrice'])\n",
    "Y=df[['AveOccup','HousingPrice']]\n",
    "X_train,X_test,Y_train,Y_test=train_test_split(X,Y,test_size=0.2,random_state=42)\n",
    "\n"
   ]
  },
  {
   "cell_type": "code",
   "execution_count": 17,
   "id": "5bd5f321",
   "metadata": {},
   "outputs": [],
   "source": [
    "scaler_X=StandardScaler()\n",
    "scaler_Y=StandardScaler()\n",
    "\n"
   ]
  },
  {
   "cell_type": "code",
   "execution_count": 18,
   "id": "1d301ac8",
   "metadata": {},
   "outputs": [],
   "source": [
    "X_train=scaler_X.fit_transform(X_train)\n",
    "X_test=scaler_X.fit_transform(X_test)\n",
    "Y_train=scaler_Y.fit_transform(Y_train)\n",
    "Y_test=scaler_Y.fit_transform(Y_test)\n",
    "\n"
   ]
  },
  {
   "cell_type": "code",
   "execution_count": 19,
   "id": "b4aab187",
   "metadata": {},
   "outputs": [
    {
     "name": "stdout",
     "output_type": "stream",
     "text": [
      "Mean Squared Error: 1.8051303954373188\n",
      "\n",
      "Predictions\n",
      " [[2.98936624 0.76883762]\n",
      " [2.89432909 1.75697441]\n",
      " [2.95217798 2.67170595]\n",
      " [2.90838096 2.83007454]\n",
      " [2.76656318 2.63395111]]\n"
     ]
    }
   ],
   "source": [
    "sgd=SGDRegressor(max_iter=1000,tol=1e-3)\n",
    "multi_output_sgd=MultiOutputRegressor(sgd)\n",
    "multi_output_sgd.fit(X_train,Y_train)\n",
    "Y_pred=multi_output_sgd.predict(X_test)\n",
    "Y_pred=scaler_Y.inverse_transform(Y_pred)\n",
    "Y_test=scaler_Y.inverse_transform(Y_test)\n",
    "mse=mean_squared_error(Y_test,Y_pred)\n",
    "print(\"Mean Squared Error:\",mse)\n",
    "print(\"\\nPredictions\\n\",Y_pred[:5])"
   ]
  }
 ],
 "metadata": {
  "kernelspec": {
   "display_name": "Python 3 (ipykernel)",
   "language": "python",
   "name": "python3"
  },
  "language_info": {
   "codemirror_mode": {
    "name": "ipython",
    "version": 3
   },
   "file_extension": ".py",
   "mimetype": "text/x-python",
   "name": "python",
   "nbconvert_exporter": "python",
   "pygments_lexer": "ipython3",
   "version": "3.11.3"
  }
 },
 "nbformat": 4,
 "nbformat_minor": 5
}
